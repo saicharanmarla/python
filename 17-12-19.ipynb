{
 "cells": [
  {
   "cell_type": "markdown",
   "metadata": {},
   "source": [
    "# Collection of Data Structures types:\n",
    "1. List\n",
    "2. Tuple\n",
    "3. Set\n",
    "4. Dictionary"
   ]
  },
  {
   "cell_type": "markdown",
   "metadata": {},
   "source": [
    "# List :\n",
    "- One of the data structures in python\n",
    "\n",
    "- Data Structures means to store,sort and search options\n",
    "\n",
    "- Its one common data structure in python,the items of list separated by comma and enclosed by square brackets\n",
    "\n",
    "- list will have a positive index and a negative index\n",
    "\n",
    "\n",
    "## Example :\n",
    "\n",
    "- list1=[1,2,3,4]\n",
    "\n",
    "- list2=[\"gitam\",1,2,3]"
   ]
  },
  {
   "cell_type": "code",
   "execution_count": 1,
   "metadata": {},
   "outputs": [
    {
     "name": "stdout",
     "output_type": "stream",
     "text": [
      "[1, 2, 3, 4, 5, 6, 7, 8, 9, 10]\n"
     ]
    }
   ],
   "source": [
    "li = [1,2,3,4,5,6,7,8,9,10]\n",
    "print(li)"
   ]
  },
  {
   "cell_type": "code",
   "execution_count": 7,
   "metadata": {},
   "outputs": [
    {
     "name": "stdout",
     "output_type": "stream",
     "text": [
      "[1, 2, 3, 4, 5, 6, 7, 8, 9, 10]\n",
      "3\n",
      "7\n",
      "[4, 5, 6, 7, 8, 9, 10]\n",
      "[4, 5, 6, 7, 8, 9]\n",
      "[5, 6, 7, 8, 9]\n"
     ]
    }
   ],
   "source": [
    "li = [1,2,3,4,5,6,7,8,9,10]\n",
    "print(li)\n",
    "print(li[2])\n",
    "print(li[-4])\n",
    "print(li[3:])\n",
    "print(li[3:9])\n",
    "print(li[-6:-1])"
   ]
  },
  {
   "cell_type": "code",
   "execution_count": 11,
   "metadata": {},
   "outputs": [
    {
     "name": "stdout",
     "output_type": "stream",
     "text": [
      "['gitam', 1234, 1235, 1236, 'hyd']\n",
      "t\n"
     ]
    }
   ],
   "source": [
    "li = [\"gitam\",1234,1235,1236,\"hyd\"]\n",
    "print(li)\n",
    "print(li[0][2])"
   ]
  },
  {
   "cell_type": "code",
   "execution_count": 12,
   "metadata": {},
   "outputs": [
    {
     "name": "stdout",
     "output_type": "stream",
     "text": [
      "['gitam', 1234, 1235, 'hyd']\n"
     ]
    }
   ],
   "source": [
    "del li[3]\n",
    "print(li)"
   ]
  },
  {
   "cell_type": "code",
   "execution_count": 13,
   "metadata": {},
   "outputs": [
    {
     "name": "stdout",
     "output_type": "stream",
     "text": [
      "['gitam', 123, 1235, 'hyd']\n"
     ]
    }
   ],
   "source": [
    "# Update\n",
    "li[1]=123\n",
    "print(li)"
   ]
  },
  {
   "cell_type": "code",
   "execution_count": 18,
   "metadata": {},
   "outputs": [
    {
     "name": "stdout",
     "output_type": "stream",
     "text": [
      "116\n",
      "1\n",
      "156\n",
      "5\n",
      "31\n"
     ]
    }
   ],
   "source": [
    "# Basic List Functions\n",
    "li = [1,9,116,25,5]\n",
    "print(max(li))\n",
    "print(min(li))\n",
    "print(sum(li))\n",
    "print(len(li))\n",
    "print(sum(li)//len(li))"
   ]
  },
  {
   "cell_type": "code",
   "execution_count": 25,
   "metadata": {},
   "outputs": [
    {
     "name": "stdout",
     "output_type": "stream",
     "text": [
      "[1, 9, 56, 116, 25, 5, 9, 89]\n"
     ]
    }
   ],
   "source": [
    "li = [1,9,116,25,5,9]\n",
    "li.append(89)\n",
    "li.insert(2,56)\n",
    "print(li)"
   ]
  },
  {
   "cell_type": "code",
   "execution_count": 26,
   "metadata": {},
   "outputs": [
    {
     "data": {
      "text/plain": [
       "2"
      ]
     },
     "execution_count": 26,
     "metadata": {},
     "output_type": "execute_result"
    }
   ],
   "source": [
    "li.count(9)"
   ]
  },
  {
   "cell_type": "code",
   "execution_count": 27,
   "metadata": {},
   "outputs": [
    {
     "data": {
      "text/plain": [
       "5"
      ]
     },
     "execution_count": 27,
     "metadata": {},
     "output_type": "execute_result"
    }
   ],
   "source": [
    "li.index(5)"
   ]
  },
  {
   "cell_type": "code",
   "execution_count": 29,
   "metadata": {},
   "outputs": [
    {
     "name": "stdout",
     "output_type": "stream",
     "text": [
      "[1, 5, 9, 9, 25, 56, 89, 116]\n"
     ]
    }
   ],
   "source": [
    "li.sort()\n",
    "print(li)"
   ]
  },
  {
   "cell_type": "code",
   "execution_count": 30,
   "metadata": {},
   "outputs": [
    {
     "name": "stdout",
     "output_type": "stream",
     "text": [
      "[1, 5, 9, 9, 25, 56, 89]\n"
     ]
    }
   ],
   "source": [
    "li.pop()\n",
    "print(li)"
   ]
  },
  {
   "cell_type": "code",
   "execution_count": 31,
   "metadata": {},
   "outputs": [
    {
     "name": "stdout",
     "output_type": "stream",
     "text": [
      "[1, 9, 9, 25, 56, 89]\n"
     ]
    }
   ],
   "source": [
    "li.pop(1)\n",
    "print(li)"
   ]
  },
  {
   "cell_type": "markdown",
   "metadata": {},
   "source": [
    "# Delete\n",
    "\n",
    "- delete the list item from the list\n",
    "\n",
    "## Pop\n",
    "\n",
    "- remove last index value\n",
    "\n",
    "### Pop(index)\n",
    "\n",
    "- removes the item from specified index"
   ]
  },
  {
   "cell_type": "code",
   "execution_count": 35,
   "metadata": {},
   "outputs": [
    {
     "data": {
      "text/plain": [
       "[79, 78, 76, 9, 5, 25, 116, 9, 1]"
      ]
     },
     "execution_count": 35,
     "metadata": {},
     "output_type": "execute_result"
    }
   ],
   "source": [
    "li = [1,9,116,25,5,9]\n",
    "li1 = [76,78,79]\n",
    "li.extend(li1)\n",
    "li.reverse()\n",
    "li"
   ]
  },
  {
   "cell_type": "code",
   "execution_count": 37,
   "metadata": {},
   "outputs": [
    {
     "name": "stdout",
     "output_type": "stream",
     "text": [
      "76\n",
      "25\n"
     ]
    }
   ],
   "source": [
    "# Function to return the large number from the given list\n",
    "def largenum(li):\n",
    "    li.sort()\n",
    "    return li[-1]\n",
    "def genericlarge(li,n):\n",
    "    li.sort()\n",
    "    return li[-n]\n",
    "li = [19,1,25,45,76]\n",
    "print(largenum(li))\n",
    "print(genericlarge(li,3))"
   ]
  },
  {
   "cell_type": "code",
   "execution_count": 43,
   "metadata": {},
   "outputs": [
    {
     "name": "stdout",
     "output_type": "stream",
     "text": [
      "1\n",
      "19\n"
     ]
    }
   ],
   "source": [
    "# Function to return the small number from the given list\n",
    "def smallnum(li):\n",
    "    li.sort()\n",
    "    return li[0]\n",
    "def genericsmall(li,n):\n",
    "    li.sort()\n",
    "    return li[1]\n",
    "li = [19,1,25,45,76]\n",
    "print(smallnum(li))\n",
    "print(genericsmall(li,3))"
   ]
  },
  {
   "cell_type": "markdown",
   "metadata": {},
   "source": [
    "# Tuple\n",
    "\n",
    "- Its one common data structure in pyhton,the items are separated by comma and enclosed by paranthesis()\n",
    "\n",
    "\n",
    "# Example\n",
    "\n",
    "- li = (1,2,3,4)"
   ]
  },
  {
   "cell_type": "markdown",
   "metadata": {},
   "source": [
    "## List and Tuple :\n",
    "\n",
    "- List are mutable - can be changed / modiied\n",
    "\n",
    "- list used to modify,add,delete,update\n",
    "\n",
    "\n",
    "\n",
    "\n",
    "- Tuples are immutable - cannot be changed\n",
    "\n",
    "- Tuple is used to access data only"
   ]
  },
  {
   "cell_type": "code",
   "execution_count": 44,
   "metadata": {},
   "outputs": [
    {
     "data": {
      "text/plain": [
       "(1, 2, 3, 4, 5)"
      ]
     },
     "execution_count": 44,
     "metadata": {},
     "output_type": "execute_result"
    }
   ],
   "source": [
    "t1 = (1,2,3,4,5)\n",
    "t1"
   ]
  },
  {
   "cell_type": "markdown",
   "metadata": {},
   "source": [
    "# Dictionaries :\n",
    "\n",
    "- It works on concept of set unique data\n",
    "\n",
    "- Dictionary contains Keys and Values\n",
    "\n",
    "- Each Key and Value separated by comma\n",
    "\n",
    "- Each key is separated from its values with colon(:)\n",
    "\n",
    "- Dictionary values are enclosed in flower brackets\n"
   ]
  },
  {
   "cell_type": "code",
   "execution_count": 48,
   "metadata": {},
   "outputs": [
    {
     "data": {
      "text/plain": [
       "{'name': 'gitam', 'email': 'gitam@in', 'address': 'hyderabad'}"
      ]
     },
     "execution_count": 48,
     "metadata": {},
     "output_type": "execute_result"
    }
   ],
   "source": [
    "d1 = {\"name\":\"gitam\",\"email\":\"gitam@in\",\"address\":\"hyderabad\"}\n",
    "d1"
   ]
  },
  {
   "cell_type": "code",
   "execution_count": 49,
   "metadata": {},
   "outputs": [
    {
     "data": {
      "text/plain": [
       "'gitam'"
      ]
     },
     "execution_count": 49,
     "metadata": {},
     "output_type": "execute_result"
    }
   ],
   "source": [
    "d1[\"name\"]"
   ]
  },
  {
   "cell_type": "code",
   "execution_count": 50,
   "metadata": {},
   "outputs": [
    {
     "data": {
      "text/plain": [
       "{'name': 'charan', 'email': 'gitam@in', 'address': 'hyderabad'}"
      ]
     },
     "execution_count": 50,
     "metadata": {},
     "output_type": "execute_result"
    }
   ],
   "source": [
    "d1['name'] = 'charan'\n",
    "d1"
   ]
  },
  {
   "cell_type": "code",
   "execution_count": 51,
   "metadata": {},
   "outputs": [
    {
     "data": {
      "text/plain": [
       "{'name': 'charan',\n",
       " 'email': 'gitam@in',\n",
       " 'address': 'hyderabad',\n",
       " 'rollno': '221710311037'}"
      ]
     },
     "execution_count": 51,
     "metadata": {},
     "output_type": "execute_result"
    }
   ],
   "source": [
    "d1['rollno'] = '221710311037'\n",
    "d1"
   ]
  },
  {
   "cell_type": "code",
   "execution_count": 52,
   "metadata": {},
   "outputs": [
    {
     "data": {
      "text/plain": [
       "{'name': 'charan', 'address': 'hyderabad', 'rollno': '221710311037'}"
      ]
     },
     "execution_count": 52,
     "metadata": {},
     "output_type": "execute_result"
    }
   ],
   "source": [
    "del d1['email']\n",
    "d1"
   ]
  },
  {
   "cell_type": "code",
   "execution_count": 53,
   "metadata": {},
   "outputs": [
    {
     "data": {
      "text/plain": [
       "dict_keys(['name', 'address', 'rollno'])"
      ]
     },
     "execution_count": 53,
     "metadata": {},
     "output_type": "execute_result"
    }
   ],
   "source": [
    "d1.keys()"
   ]
  },
  {
   "cell_type": "code",
   "execution_count": 54,
   "metadata": {},
   "outputs": [
    {
     "data": {
      "text/plain": [
       "dict_values(['charan', 'hyderabad', '221710311037'])"
      ]
     },
     "execution_count": 54,
     "metadata": {},
     "output_type": "execute_result"
    }
   ],
   "source": [
    "d1.values()"
   ]
  },
  {
   "cell_type": "code",
   "execution_count": 55,
   "metadata": {},
   "outputs": [
    {
     "data": {
      "text/plain": [
       "dict_items([('name', 'charan'), ('address', 'hyderabad'), ('rollno', '221710311037')])"
      ]
     },
     "execution_count": 55,
     "metadata": {},
     "output_type": "execute_result"
    }
   ],
   "source": [
    "d1.items()"
   ]
  },
  {
   "cell_type": "markdown",
   "metadata": {},
   "source": [
    "# Strings : "
   ]
  },
  {
   "cell_type": "code",
   "execution_count": 57,
   "metadata": {},
   "outputs": [
    {
     "name": "stdout",
     "output_type": "stream",
     "text": [
      "python\n",
      "<class 'str'>\n"
     ]
    }
   ],
   "source": [
    "s1 = \"python\"\n",
    "print(s1)\n",
    "print(type(s1))"
   ]
  },
  {
   "cell_type": "code",
   "execution_count": 69,
   "metadata": {},
   "outputs": [
    {
     "name": "stdout",
     "output_type": "stream",
     "text": [
      "p\n",
      "y\n",
      "t\n",
      "h\n",
      "o\n",
      "n\n",
      "4\n",
      "o\n",
      "ytho\n",
      "h\n",
      "python\n",
      "pto\n",
      "ph\n",
      "nohtyp\n"
     ]
    }
   ],
   "source": [
    "s1 = \"python\"\n",
    "print(s1[0])\n",
    "print(s1[1])\n",
    "print(s1[2])\n",
    "print(s1[3])\n",
    "print(s1[4])\n",
    "print(s1[5])\n",
    "print(len(s1)-2)\n",
    "print(s1[len(s1)-2])\n",
    "print(s1[1:-1])\n",
    "print(s1[len(s1)//2])\n",
    "print(s1[::1])\n",
    "print(s1[::2])\n",
    "print(s1[::3])\n",
    "print(s1[::-1])"
   ]
  },
  {
   "cell_type": "markdown",
   "metadata": {},
   "source": [
    "# String Built in Methods :\n",
    "\n",
    "- Upper\n",
    "\n",
    "- Lower\n",
    "\n",
    "- islower\n",
    "\n",
    "- isupper\n",
    "\n",
    "- istitle\n",
    "\n",
    "- isnumeric\n",
    "\n",
    "- isalpha\n",
    "\n",
    "- isspace"
   ]
  },
  {
   "cell_type": "code",
   "execution_count": 70,
   "metadata": {},
   "outputs": [
    {
     "name": "stdout",
     "output_type": "stream",
     "text": [
      "PYTHON\n",
      "python\n",
      "False\n",
      "False\n",
      "True\n",
      "False\n",
      "True\n"
     ]
    }
   ],
   "source": [
    "s1 = 'Python'\n",
    "print(s1.upper())\n",
    "print(s1.lower())\n",
    "print(s1.isupper())\n",
    "print(s1.islower())\n",
    "print(s1.istitle())\n",
    "print(s1.isnumeric())\n",
    "print(s1.isalpha())"
   ]
  },
  {
   "cell_type": "code",
   "execution_count": 74,
   "metadata": {},
   "outputs": [
    {
     "name": "stdout",
     "output_type": "stream",
     "text": [
      "False\n"
     ]
    }
   ],
   "source": [
    "s1 = \"what how why\"\n",
    "print(s1.isspace())"
   ]
  },
  {
   "cell_type": "markdown",
   "metadata": {},
   "source": [
    "# String Methods :\n",
    "\n",
    "- join()\n",
    "\n",
    "- split()\n",
    "\n",
    "- replace()"
   ]
  },
  {
   "cell_type": "code",
   "execution_count": 75,
   "metadata": {},
   "outputs": [
    {
     "name": "stdout",
     "output_type": "stream",
     "text": [
      "p   y   t   h   o   n\n"
     ]
    }
   ],
   "source": [
    "s1 = \"python\"\n",
    "print(\"   \".join(s1))"
   ]
  },
  {
   "cell_type": "code",
   "execution_count": 76,
   "metadata": {},
   "outputs": [
    {
     "name": "stdout",
     "output_type": "stream",
     "text": [
      "p ,  y ,  t ,  h ,  o ,  n\n"
     ]
    }
   ],
   "source": [
    "s1 = \"python\"\n",
    "print(\" ,  \".join(s1))"
   ]
  },
  {
   "cell_type": "code",
   "execution_count": 77,
   "metadata": {},
   "outputs": [
    {
     "name": "stdout",
     "output_type": "stream",
     "text": [
      "p ->  y ->  t ->  h ->  o ->  n\n"
     ]
    }
   ],
   "source": [
    "s1 = \"python\"\n",
    "print(\" ->  \".join(s1))"
   ]
  },
  {
   "cell_type": "code",
   "execution_count": 79,
   "metadata": {},
   "outputs": [
    {
     "name": "stdout",
     "output_type": "stream",
     "text": [
      "['python', 'is', 'easy', 'to', 'learn']\n"
     ]
    }
   ],
   "source": [
    "s1 = \"python is easy to learn\"\n",
    "print(s1.split())"
   ]
  },
  {
   "cell_type": "code",
   "execution_count": 82,
   "metadata": {},
   "outputs": [
    {
     "name": "stdout",
     "output_type": "stream",
     "text": [
      "python is good to learn\n"
     ]
    }
   ],
   "source": [
    "s1 = \"python is easy to learn\"\n",
    "print(s1.replace(\"easy\",'good'))"
   ]
  }
 ],
 "metadata": {
  "kernelspec": {
   "display_name": "Python 3",
   "language": "python",
   "name": "python3"
  },
  "language_info": {
   "codemirror_mode": {
    "name": "ipython",
    "version": 3
   },
   "file_extension": ".py",
   "mimetype": "text/x-python",
   "name": "python",
   "nbconvert_exporter": "python",
   "pygments_lexer": "ipython3",
   "version": "3.7.3"
  }
 },
 "nbformat": 4,
 "nbformat_minor": 2
}
