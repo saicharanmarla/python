{
 "cells": [
  {
   "cell_type": "markdown",
   "metadata": {},
   "source": [
    "# Markdown\n",
    "## Markdowns\n",
    "### Markdowns\n"
   ]
  },
  {
   "cell_type": "markdown",
   "metadata": {},
   "source": [
    "# insert site address\n",
    "[site](http://localhost:8888/notebooks/Untitled12.ipynb?kernel_name=python3)"
   ]
  },
  {
   "cell_type": "markdown",
   "metadata": {},
   "source": [
    "# insert image\n",
    "![text](https://specials-images.forbesimg.com/imageserve/5dbc270eca425400079c3d46/960x0.jpg?cropX1=0&cropX2=2379&cropY1=3&cropY2=1118)"
   ]
  },
  {
   "cell_type": "markdown",
   "metadata": {},
   "source": [
    "# Python basics\n",
    "\n",
    "Python is easy to learn\n"
   ]
  },
  {
   "cell_type": "markdown",
   "metadata": {},
   "source": [
    "# Creating Ordered List\n",
    "\n",
    "1. abs\n",
    "2. bct\n",
    "     1. rts"
   ]
  },
  {
   "cell_type": "markdown",
   "metadata": {},
   "source": [
    "## Bold and Italics text\n",
    "**CHARAN**\n",
    "*CHARAN*"
   ]
  },
  {
   "cell_type": "code",
   "execution_count": 4,
   "metadata": {},
   "outputs": [
    {
     "name": "stdout",
     "output_type": "stream",
     "text": [
      "HELLO WORLD!!\n"
     ]
    }
   ],
   "source": [
    "# Basic Hello\n",
    "print(\"HELLO WORLD!!\")"
   ]
  },
  {
   "cell_type": "code",
   "execution_count": 5,
   "metadata": {},
   "outputs": [
    {
     "data": {
      "text/plain": [
       "30"
      ]
     },
     "execution_count": 5,
     "metadata": {},
     "output_type": "execute_result"
    }
   ],
   "source": [
    "# Variable Creation\n",
    "x = 10\n",
    "y = 20\n",
    "x + y"
   ]
  },
  {
   "cell_type": "markdown",
   "metadata": {},
   "source": [
    "# Rules for variable\n",
    "\n",
    "- name should begin with a character \n",
    "\n",
    "- no special character allowed except underscore(_)"
   ]
  },
  {
   "cell_type": "code",
   "execution_count": 7,
   "metadata": {},
   "outputs": [
    {
     "name": "stdout",
     "output_type": "stream",
     "text": [
      "my name is: charan age is: 20\n"
     ]
    }
   ],
   "source": [
    "name =\"charan\"\n",
    "age =20\n",
    "print(\"my name is:\",name,\"age is:\",age)"
   ]
  },
  {
   "cell_type": "code",
   "execution_count": 8,
   "metadata": {},
   "outputs": [
    {
     "name": "stdout",
     "output_type": "stream",
     "text": [
      "enter namecharan\n",
      "enter age20\n",
      "my name is: charan age is: 20\n"
     ]
    }
   ],
   "source": [
    "name = input(\"enter name\")\n",
    "age = int(input(\"enter age\"))\n",
    "print(\"my name is:\",name,\"age is:\",age)"
   ]
  },
  {
   "cell_type": "code",
   "execution_count": 11,
   "metadata": {},
   "outputs": [
    {
     "name": "stdout",
     "output_type": "stream",
     "text": [
      "enter any number2\n",
      "enter any number3\n",
      "addition is : 5 subtraction is : -1 multiplication is : 6 division is : 0.6666666666666666 modulus is : 2\n"
     ]
    }
   ],
   "source": [
    "x = int(input(\"enter any number\"))\n",
    "y = int(input(\"enter any number\"))\n",
    "print(\"addition is :\",x+y,\"subtraction is :\",x-y,\"multiplication is :\",x*y,\"division is :\",x/y,\"modulus is :\",x%y)"
   ]
  },
  {
   "cell_type": "code",
   "execution_count": 12,
   "metadata": {},
   "outputs": [
    {
     "name": "stdout",
     "output_type": "stream",
     "text": [
      "enter any number4\n",
      "enter any number2\n",
      "addition is : 6 subtraction is : 2 multiplication is : 8 division is : 2.0 modulus is : 0\n"
     ]
    }
   ],
   "source": [
    "x = int(input(\"enter any number\"))\n",
    "y = int(input(\"enter any number\"))\n",
    "print(\"addition is :\",x+y,\"subtraction is :\",x-y,\"multiplication is :\",x*y,\"division is :\",x/y,\"modulus is :\",x%y)"
   ]
  },
  {
   "cell_type": "markdown",
   "metadata": {},
   "source": [
    "# Fundamental Datatypes  :\n",
    "\n",
    "- int\n",
    "\n",
    "- float\n",
    "\n",
    "- complex\n",
    "\n",
    "- boolean\n",
    "\n",
    "- string"
   ]
  },
  {
   "cell_type": "code",
   "execution_count": 13,
   "metadata": {},
   "outputs": [
    {
     "name": "stdout",
     "output_type": "stream",
     "text": [
      "<class 'int'>\n",
      "<class 'float'>\n",
      "<class 'complex'>\n"
     ]
    }
   ],
   "source": [
    "x = 10\n",
    "y = 12.32\n",
    "z = 5+6j\n",
    "print(type(x))\n",
    "print(type(y))\n",
    "print(type(z))"
   ]
  },
  {
   "cell_type": "code",
   "execution_count": 14,
   "metadata": {},
   "outputs": [
    {
     "name": "stdout",
     "output_type": "stream",
     "text": [
      "(10+20j)\n"
     ]
    }
   ],
   "source": [
    "q = complex(10,20)\n",
    "print(q)"
   ]
  },
  {
   "cell_type": "code",
   "execution_count": 16,
   "metadata": {},
   "outputs": [
    {
     "name": "stdout",
     "output_type": "stream",
     "text": [
      "(7+10j)\n",
      "(-4+38j)\n",
      "(-1+6j)\n"
     ]
    }
   ],
   "source": [
    "x = 3+8j\n",
    "y = 4+2j\n",
    "print(x+y)\n",
    "print(x*y)\n",
    "print(x-y)"
   ]
  },
  {
   "cell_type": "code",
   "execution_count": 19,
   "metadata": {},
   "outputs": [
    {
     "data": {
      "text/plain": [
       "False"
      ]
     },
     "execution_count": 19,
     "metadata": {},
     "output_type": "execute_result"
    }
   ],
   "source": [
    "a=6\n",
    "b=2\n",
    "a<b"
   ]
  },
  {
   "cell_type": "code",
   "execution_count": 21,
   "metadata": {},
   "outputs": [
    {
     "data": {
      "text/plain": [
       "True"
      ]
     },
     "execution_count": 21,
     "metadata": {},
     "output_type": "execute_result"
    }
   ],
   "source": [
    "a=23456\n",
    "b=98765\n",
    "a<b"
   ]
  },
  {
   "cell_type": "code",
   "execution_count": 23,
   "metadata": {},
   "outputs": [
    {
     "name": "stdout",
     "output_type": "stream",
     "text": [
      "<class 'str'> <class 'str'>\n"
     ]
    }
   ],
   "source": [
    "# string\n",
    "s1=\"abd\"\n",
    "s2=\"dfg\"\n",
    "print(type(s1),type(s2))"
   ]
  },
  {
   "cell_type": "code",
   "execution_count": 24,
   "metadata": {},
   "outputs": [
    {
     "name": "stdout",
     "output_type": "stream",
     "text": [
      "<class 'int'>\n",
      "<class 'str'>\n",
      "<class 'float'>\n"
     ]
    }
   ],
   "source": [
    "i=100\n",
    "print(type(i))\n",
    "s1=str(i)\n",
    "print(type(s1))\n",
    "f1=float(i)\n",
    "print(type(f1))"
   ]
  },
  {
   "cell_type": "code",
   "execution_count": 25,
   "metadata": {},
   "outputs": [
    {
     "name": "stdout",
     "output_type": "stream",
     "text": [
      "11\n"
     ]
    }
   ],
   "source": [
    "# length\n",
    "a=12345678910\n",
    "print(len(str(a)))"
   ]
  },
  {
   "cell_type": "code",
   "execution_count": 26,
   "metadata": {},
   "outputs": [
    {
     "name": "stdout",
     "output_type": "stream",
     "text": [
      "100\n",
      "1000\n",
      "1 11 21\n"
     ]
    }
   ],
   "source": [
    "n1=100 #single variable assignment\n",
    "a=b=c=1000 #multiple variable assignment\n",
    "a1,b1,c1=1,11,21\n",
    "print(n1)\n",
    "print(a)\n",
    "print(a1,b1,c1)"
   ]
  },
  {
   "cell_type": "markdown",
   "metadata": {},
   "source": [
    "# Precedence of the Arithmetic Operators\n",
    "\n",
    "- Paranthesis\n",
    "\n",
    "- Power\n",
    "\n",
    "- Multiplication\n",
    "\n",
    "- Addition"
   ]
  },
  {
   "cell_type": "code",
   "execution_count": 27,
   "metadata": {},
   "outputs": [
    {
     "name": "stdout",
     "output_type": "stream",
     "text": [
      "8.0\n"
     ]
    }
   ],
   "source": [
    "x=1+2**3/4+5\n",
    "print(x)"
   ]
  },
  {
   "cell_type": "code",
   "execution_count": 28,
   "metadata": {},
   "outputs": [
    {
     "name": "stdout",
     "output_type": "stream",
     "text": [
      "11.0\n"
     ]
    }
   ],
   "source": [
    "x=1+2**3/4*5\n",
    "print(x)"
   ]
  },
  {
   "cell_type": "markdown",
   "metadata": {},
   "source": [
    "# Operators\n",
    "\n",
    "## Arithmetic Operators\n",
    "\n",
    "- +\n",
    "\n",
    "- -\n",
    "\n",
    "- *\n",
    "\n",
    "- /\n",
    "\n",
    "- %\n",
    "\n",
    "- **\n",
    "\n",
    "- //"
   ]
  },
  {
   "cell_type": "code",
   "execution_count": 32,
   "metadata": {},
   "outputs": [
    {
     "name": "stdout",
     "output_type": "stream",
     "text": [
      "enter any number2\n",
      "enter any number3\n",
      "dd 0\n"
     ]
    }
   ],
   "source": [
    "a=int(input(\"enter any number\"))\n",
    "b=int(input(\"enter any number\"))\n",
    "print(\"dd\",a//b)"
   ]
  },
  {
   "cell_type": "code",
   "execution_count": 33,
   "metadata": {},
   "outputs": [
    {
     "name": "stdout",
     "output_type": "stream",
     "text": [
      "enter any number8\n",
      "enter any number2\n",
      "dd 4\n"
     ]
    }
   ],
   "source": [
    "a=int(input(\"enter any number\"))\n",
    "b=int(input(\"enter any number\"))\n",
    "print(\"dd\",a//b)\n"
   ]
  },
  {
   "cell_type": "markdown",
   "metadata": {},
   "source": [
    "# Relational Operators\n",
    "\n",
    "-- ==,!=,<,>,<=,>="
   ]
  },
  {
   "cell_type": "code",
   "execution_count": 34,
   "metadata": {},
   "outputs": [
    {
     "name": "stdout",
     "output_type": "stream",
     "text": [
      "False\n"
     ]
    }
   ],
   "source": [
    "x=5\n",
    "a=x>10\n",
    "print(a)"
   ]
  },
  {
   "cell_type": "markdown",
   "metadata": {},
   "source": [
    "# Logical Operators\n",
    "\n",
    "- and\n",
    "\n",
    "- or\n",
    "\n",
    "- not"
   ]
  },
  {
   "cell_type": "code",
   "execution_count": 38,
   "metadata": {},
   "outputs": [
    {
     "name": "stdout",
     "output_type": "stream",
     "text": [
      "False\n",
      "True\n",
      "False\n"
     ]
    }
   ],
   "source": [
    "x=100\n",
    "a=(x>15)and(x<70)\n",
    "b=(x<567)or(x>123456789)\n",
    "print(a)\n",
    "print(b)\n",
    "print(not x)"
   ]
  },
  {
   "cell_type": "markdown",
   "metadata": {},
   "source": [
    "# Membership Operators\n",
    "\n",
    "- in\n",
    "\n",
    "- not in"
   ]
  },
  {
   "cell_type": "code",
   "execution_count": 39,
   "metadata": {},
   "outputs": [
    {
     "name": "stdout",
     "output_type": "stream",
     "text": [
      "True\n",
      "False\n",
      "False\n",
      "True\n"
     ]
    }
   ],
   "source": [
    "str1=\"abcd\"\n",
    "print('a' in str1)\n",
    "print('a' not in str1)\n",
    "print('f' in str1)\n",
    "print('f' not in str1)"
   ]
  },
  {
   "cell_type": "markdown",
   "metadata": {},
   "source": [
    "# Control Flow Statements\n",
    "\n",
    "- Conditional Statements\n",
    "\n",
    "- Looping Statements\n",
    "\n",
    "-- if - else statements\n",
    "\n",
    "  - Syntax\n",
    "   \n",
    "   #### if condition:\n",
    "   \n",
    "   > statements<br>\n",
    "   \n",
    "   #### else:\n",
    "   \n",
    "   > statements"
   ]
  },
  {
   "cell_type": "code",
   "execution_count": 46,
   "metadata": {},
   "outputs": [
    {
     "name": "stdout",
     "output_type": "stream",
     "text": [
      "enter any number2\n",
      "even\n"
     ]
    }
   ],
   "source": [
    "#check given number is even or odd\n",
    "n=int(input(\"enter any number\"))\n",
    "if n%2 ==0:\n",
    " print(\"even\")\n",
    "else:\n",
    " print(\"odd\")"
   ]
  },
  {
   "cell_type": "code",
   "execution_count": 47,
   "metadata": {},
   "outputs": [
    {
     "name": "stdout",
     "output_type": "stream",
     "text": [
      "enter any number15\n",
      "yes\n"
     ]
    }
   ],
   "source": [
    "#check given number is perfectly multiple of 3 and 5\n",
    "n=int(input(\"enter any number\"))\n",
    "if n%15 ==0:\n",
    " print(\"yes\")\n",
    "else:\n",
    " print(\"no\")"
   ]
  },
  {
   "cell_type": "code",
   "execution_count": 53,
   "metadata": {},
   "outputs": [
    {
     "name": "stdout",
     "output_type": "stream",
     "text": [
      "enter any number3\n",
      "no\n"
     ]
    }
   ],
   "source": [
    "#check given number is perfectly multiple of 3 and 5\n",
    "n=int(input(\"enter any number\"))\n",
    "if n%15 ==0:\n",
    " print(\"yes\")\n",
    "else:\n",
    " print(\"no\")"
   ]
  },
  {
   "cell_type": "code",
   "execution_count": 55,
   "metadata": {},
   "outputs": [
    {
     "name": "stdout",
     "output_type": "stream",
     "text": [
      "enter any number15\n",
      "yes\n"
     ]
    }
   ],
   "source": [
    "#check given number is perfectly multiple of 3 and 5\n",
    "n=int(input(\"enter any number\"))\n",
    "if n%3 ==0 and n%5==0:\n",
    " print(\"yes\")\n",
    "else:\n",
    "  print(\"no\")"
   ]
  },
  {
   "cell_type": "code",
   "execution_count": 59,
   "metadata": {},
   "outputs": [
    {
     "name": "stdout",
     "output_type": "stream",
     "text": [
      "enter any number-987\n",
      "negative\n"
     ]
    }
   ],
   "source": [
    "#check given number is postive,negative,zero\n",
    "n=int(input(\"enter any number\"))\n",
    "if n>0:\n",
    " print(\"positive\")\n",
    "elif n==0:\n",
    " print(\"zero\")\n",
    "else:\n",
    "    print(\"negative\")\n",
    "    "
   ]
  },
  {
   "cell_type": "code",
   "execution_count": null,
   "metadata": {},
   "outputs": [],
   "source": []
  }
 ],
 "metadata": {
  "kernelspec": {
   "display_name": "Python 3",
   "language": "python",
   "name": "python3"
  },
  "language_info": {
   "codemirror_mode": {
    "name": "ipython",
    "version": 3
   },
   "file_extension": ".py",
   "mimetype": "text/x-python",
   "name": "python",
   "nbconvert_exporter": "python",
   "pygments_lexer": "ipython3",
   "version": "3.7.3"
  }
 },
 "nbformat": 4,
 "nbformat_minor": 2
}
