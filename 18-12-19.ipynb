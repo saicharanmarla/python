{
 "cells": [
  {
   "cell_type": "code",
   "execution_count": null,
   "metadata": {},
   "outputs": [],
   "source": [
    "program to print first value of integer\n",
    "#include <limits.h>\n",
    "void main()\n",
    "{\n",
    "    int a;\n",
    "    a=INT_MIN;\n",
    "    printf(\"%d\",a);\n",
    "}"
   ]
  },
  {
   "cell_type": "code",
   "execution_count": null,
   "metadata": {},
   "outputs": [],
   "source": [
    "program to print last value of integer\n",
    "#include <limits.h>\n",
    "void main()\n",
    "{\n",
    "    int a;\n",
    "    a=INT_MAX;\n",
    "    printf(\"%d\",a);\n",
    "}"
   ]
  },
  {
   "cell_type": "code",
   "execution_count": null,
   "metadata": {},
   "outputs": [],
   "source": [
    "#program to print ASCII values and characters\n",
    "void main()\n",
    "{\n",
    "    int i;\n",
    "    for(i=65;i<=200;i++)\n",
    "    printf(\"%c= %d\", i, i);\n",
    "}"
   ]
  },
  {
   "cell_type": "code",
   "execution_count": null,
   "metadata": {},
   "outputs": [],
   "source": [
    "#ASCII value fro particular symbol\n",
    "void main()\n",
    "{\n",
    "    printf(\"%d\",'+');\n",
    "}"
   ]
  },
  {
   "cell_type": "code",
   "execution_count": null,
   "metadata": {},
   "outputs": [],
   "source": [
    "# \\n\n",
    "void main()\n",
    "{\n",
    "    printf(\"abdc\\nxyz\");\n",
    "}"
   ]
  },
  {
   "cell_type": "code",
   "execution_count": null,
   "metadata": {},
   "outputs": [],
   "source": [
    "# \\b\n",
    "void main()\n",
    "{\n",
    "    printf(\"abdc\\bxyz\");\n",
    "}"
   ]
  },
  {
   "cell_type": "code",
   "execution_count": null,
   "metadata": {},
   "outputs": [],
   "source": [
    "# \\r\n",
    "void main()\n",
    "{\n",
    "    printf(\"abdc\\rxyz\");\n",
    "}"
   ]
  },
  {
   "cell_type": "code",
   "execution_count": null,
   "metadata": {},
   "outputs": [],
   "source": [
    "# \\f\n",
    "void main()\n",
    "{\n",
    "    printf(\"abdc\\fxyz\");\n",
    "}"
   ]
  },
  {
   "cell_type": "code",
   "execution_count": null,
   "metadata": {},
   "outputs": [],
   "source": [
    "# \\v\n",
    "void main()\n",
    "{\n",
    "    printf(\"abdc\\vxyz\");\n",
    "}"
   ]
  },
  {
   "cell_type": "code",
   "execution_count": null,
   "metadata": {},
   "outputs": [],
   "source": [
    "# \\\\\n",
    "void main()\n",
    "{\n",
    "    printf(\"abdc\\\\xyz\");\n",
    "}"
   ]
  },
  {
   "cell_type": "code",
   "execution_count": null,
   "metadata": {},
   "outputs": [],
   "source": [
    "# \\''\n",
    "void main()\n",
    "{\n",
    "    printf(\"enter\\'hello\\'\");\n",
    "}"
   ]
  },
  {
   "cell_type": "code",
   "execution_count": null,
   "metadata": {},
   "outputs": [],
   "source": [
    "# /\"\"\n",
    "void main()\n",
    "{\n",
    "    printf(\"enter\\\"hello\\\"\");\n",
    "}"
   ]
  },
  {
   "cell_type": "code",
   "execution_count": null,
   "metadata": {},
   "outputs": [],
   "source": [
    "# %o\n",
    "void main()\n",
    "{\n",
    "    int i=29;\n",
    "    printf(\"%o\",i);\n",
    "}"
   ]
  },
  {
   "cell_type": "code",
   "execution_count": null,
   "metadata": {},
   "outputs": [],
   "source": [
    "# %x\n",
    "void main()\n",
    "{\n",
    "    int i=29;\n",
    "    printf(\"%x\",i);\n",
    "}\n"
   ]
  },
  {
   "cell_type": "code",
   "execution_count": null,
   "metadata": {},
   "outputs": [],
   "source": [
    "# octal \n",
    "void main()\n",
    "{\n",
    "    int i=035;\n",
    "    printf(\"%d\",i);\n",
    "}"
   ]
  },
  {
   "cell_type": "code",
   "execution_count": null,
   "metadata": {},
   "outputs": [],
   "source": [
    "# hexadecimal\n",
    "void main()\n",
    "{\n",
    "    int i=0x35;\n",
    "    printf(\"%d\",i);\n",
    "}"
   ]
  },
  {
   "cell_type": "code",
   "execution_count": null,
   "metadata": {},
   "outputs": [],
   "source": [
    "void main()\n",
    "{\n",
    "    int i;\n",
    "    printf(\"%d\",'b'+'a');\n",
    "}"
   ]
  },
  {
   "cell_type": "code",
   "execution_count": null,
   "metadata": {},
   "outputs": [],
   "source": [
    "# remainder for decimal values\n",
    "void main()\n",
    "{\n",
    "    float a;\n",
    "    a=fmod(20.5,3.2);\n",
    "    printf(\"%f\",a);\n",
    "}\n"
   ]
  },
  {
   "cell_type": "code",
   "execution_count": null,
   "metadata": {},
   "outputs": [],
   "source": [
    "# ++a\n",
    "void main()\n",
    "{\n",
    "    int a=5,b;\n",
    "    b=++a;\n",
    "    printf(\"%d%d\",a,b);\n",
    "}\n"
   ]
  },
  {
   "cell_type": "code",
   "execution_count": null,
   "metadata": {},
   "outputs": [],
   "source": [
    "# a++\n",
    "void main()\n",
    "{\n",
    "    int a=5,b;\n",
    "    b=a++;\n",
    "    printf(\"%d%d\",a,b);\n",
    "}\n"
   ]
  },
  {
   "cell_type": "code",
   "execution_count": null,
   "metadata": {},
   "outputs": [],
   "source": [
    "# hello\n",
    "void main()\n",
    "{\n",
    "    int c;\n",
    "    c=printf(\"HeLLo\");\n",
    "    printf(\"\\n%d\",c);\n",
    "}"
   ]
  },
  {
   "cell_type": "code",
   "execution_count": null,
   "metadata": {},
   "outputs": [],
   "source": [
    "# hello 1\n",
    "void main()\n",
    "{\n",
    "    int c;\n",
    "    c=printf(\"HeLLo\\n\");\n",
    "    printf(\"\\n%d\",c);\n",
    "}"
   ]
  },
  {
   "cell_type": "code",
   "execution_count": null,
   "metadata": {},
   "outputs": [],
   "source": [
    "# scanf\n",
    "\n",
    "void main()\n",
    "{\n",
    "    int c,a,b;\n",
    "    c=scanf(\"%d%d\",&a,&b);\n",
    "    printf(\"\\n%d\",c);\n",
    "}"
   ]
  },
  {
   "cell_type": "code",
   "execution_count": null,
   "metadata": {},
   "outputs": [],
   "source": [
    "void main()\n",
    "{\n",
    "    int a=5,b=0,c;\n",
    "    c=b&&++a;\n",
    "    printf(\"\\%d\",a);\n",
    "}"
   ]
  },
  {
   "cell_type": "code",
   "execution_count": null,
   "metadata": {},
   "outputs": [],
   "source": [
    "void main()\n",
    "{\n",
    "    int a=5,b=6;\n",
    "    if(a=b)\n",
    "    printf(\"YES\");\n",
    "    else\n",
    "    printf(\"NO\");\n",
    "    printf(\"%d\",a);\n",
    "}"
   ]
  },
  {
   "cell_type": "code",
   "execution_count": null,
   "metadata": {},
   "outputs": [],
   "source": [
    "# sizeof\n",
    "void main()\n",
    "{\n",
    "    long double a;\n",
    "    printf(\"%d\",sizeof(a));\n",
    "}"
   ]
  },
  {
   "cell_type": "code",
   "execution_count": null,
   "metadata": {},
   "outputs": [],
   "source": [
    "# sizeof 1\n",
    "void main()\n",
    "{\n",
    "    int a=5,b;\n",
    "    b=sizeof(++a);\n",
    "    printf(\"%d%d\",a,b);\n",
    "}"
   ]
  },
  {
   "cell_type": "code",
   "execution_count": null,
   "metadata": {},
   "outputs": [],
   "source": [
    "# ternary operator\n",
    "void main()\n",
    "{\n",
    "    int a=6,b=5,c;\n",
    "    c=a<b?a:b;\n",
    "    printf(\"%d\",c);\n",
    "}"
   ]
  },
  {
   "cell_type": "code",
   "execution_count": null,
   "metadata": {},
   "outputs": [],
   "source": []
  }
 ],
 "metadata": {
  "kernelspec": {
   "display_name": "Python 3",
   "language": "python",
   "name": "python3"
  },
  "language_info": {
   "codemirror_mode": {
    "name": "ipython",
    "version": 3
   },
   "file_extension": ".py",
   "mimetype": "text/x-python",
   "name": "python",
   "nbconvert_exporter": "python",
   "pygments_lexer": "ipython3",
   "version": "3.7.3"
  }
 },
 "nbformat": 4,
 "nbformat_minor": 2
}
